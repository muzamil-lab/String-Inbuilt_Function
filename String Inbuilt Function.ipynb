{
 "cells": [
  {
   "cell_type": "markdown",
   "id": "637a2513",
   "metadata": {},
   "source": [
    "# # Inbuilt functions"
   ]
  },
  {
   "cell_type": "code",
   "execution_count": 1,
   "id": "fd0a29a5",
   "metadata": {},
   "outputs": [],
   "source": [
    "s =\"Hello world\""
   ]
  },
  {
   "cell_type": "code",
   "execution_count": 2,
   "id": "8d4633d9",
   "metadata": {},
   "outputs": [
    {
     "data": {
      "text/plain": [
       "'Hello world'"
      ]
     },
     "execution_count": 2,
     "metadata": {},
     "output_type": "execute_result"
    }
   ],
   "source": [
    "s"
   ]
  },
  {
   "cell_type": "code",
   "execution_count": 3,
   "id": "c3f6544c",
   "metadata": {},
   "outputs": [
    {
     "data": {
      "text/plain": [
       "-1"
      ]
     },
     "execution_count": 3,
     "metadata": {},
     "output_type": "execute_result"
    }
   ],
   "source": [
    "s.find(\"m\")"
   ]
  },
  {
   "cell_type": "code",
   "execution_count": 4,
   "id": "3100e85a",
   "metadata": {},
   "outputs": [
    {
     "data": {
      "text/plain": [
       "0"
      ]
     },
     "execution_count": 4,
     "metadata": {},
     "output_type": "execute_result"
    }
   ],
   "source": [
    "s.find(\"Hello\")"
   ]
  },
  {
   "cell_type": "code",
   "execution_count": 5,
   "id": "696fdabb",
   "metadata": {},
   "outputs": [],
   "source": [
    "s = \"my name is\""
   ]
  },
  {
   "cell_type": "code",
   "execution_count": 6,
   "id": "64ec060f",
   "metadata": {},
   "outputs": [
    {
     "data": {
      "text/plain": [
       "'my name is'"
      ]
     },
     "execution_count": 6,
     "metadata": {},
     "output_type": "execute_result"
    }
   ],
   "source": [
    "s"
   ]
  },
  {
   "cell_type": "code",
   "execution_count": 7,
   "id": "23c890ec",
   "metadata": {},
   "outputs": [
    {
     "data": {
      "text/plain": [
       "3"
      ]
     },
     "execution_count": 7,
     "metadata": {},
     "output_type": "execute_result"
    }
   ],
   "source": [
    "s.find(\"name\")"
   ]
  },
  {
   "cell_type": "code",
   "execution_count": 8,
   "id": "ddaeff3e",
   "metadata": {},
   "outputs": [
    {
     "name": "stdout",
     "output_type": "stream",
     "text": [
      "3\n",
      "4\n",
      "5\n",
      "6\n"
     ]
    }
   ],
   "source": [
    "b = s.find(\"name\")\n",
    "for i in range(len(\"name\")):\n",
    "    print(b+i)"
   ]
  },
  {
   "cell_type": "code",
   "execution_count": 9,
   "id": "9d99e695",
   "metadata": {},
   "outputs": [
    {
     "data": {
      "text/plain": [
       "'my name is'"
      ]
     },
     "execution_count": 9,
     "metadata": {},
     "output_type": "execute_result"
    }
   ],
   "source": [
    "s"
   ]
  },
  {
   "cell_type": "code",
   "execution_count": 10,
   "id": "4118c3d3",
   "metadata": {},
   "outputs": [
    {
     "data": {
      "text/plain": [
       "2"
      ]
     },
     "execution_count": 10,
     "metadata": {},
     "output_type": "execute_result"
    }
   ],
   "source": [
    "s.count(\"m\")"
   ]
  },
  {
   "cell_type": "code",
   "execution_count": 11,
   "id": "557c8b83",
   "metadata": {},
   "outputs": [
    {
     "data": {
      "text/plain": [
       "1"
      ]
     },
     "execution_count": 11,
     "metadata": {},
     "output_type": "execute_result"
    }
   ],
   "source": [
    "s.count(\"name\")"
   ]
  },
  {
   "cell_type": "code",
   "execution_count": 12,
   "id": "01c06237",
   "metadata": {},
   "outputs": [
    {
     "data": {
      "text/plain": [
       "'my name is'"
      ]
     },
     "execution_count": 12,
     "metadata": {},
     "output_type": "execute_result"
    }
   ],
   "source": [
    "s"
   ]
  },
  {
   "cell_type": "code",
   "execution_count": 13,
   "id": "88eebe0f",
   "metadata": {},
   "outputs": [
    {
     "data": {
      "text/plain": [
       "['my', 'name', 'is']"
      ]
     },
     "execution_count": 13,
     "metadata": {},
     "output_type": "execute_result"
    }
   ],
   "source": [
    "s.split()"
   ]
  },
  {
   "cell_type": "code",
   "execution_count": 14,
   "id": "4ecb08f4",
   "metadata": {},
   "outputs": [],
   "source": [
    "s = \"Hello! This is my CV, i think i am able to for your company job\""
   ]
  },
  {
   "cell_type": "code",
   "execution_count": 15,
   "id": "86aea6bc",
   "metadata": {},
   "outputs": [
    {
     "data": {
      "text/plain": [
       "'Hello! This is my CV, i think i am able to for your company job'"
      ]
     },
     "execution_count": 15,
     "metadata": {},
     "output_type": "execute_result"
    }
   ],
   "source": [
    "s"
   ]
  },
  {
   "cell_type": "code",
   "execution_count": 16,
   "id": "adab6d41",
   "metadata": {},
   "outputs": [
    {
     "data": {
      "text/plain": [
       "1"
      ]
     },
     "execution_count": 16,
     "metadata": {},
     "output_type": "execute_result"
    }
   ],
   "source": [
    "s.count(\"This\")"
   ]
  },
  {
   "cell_type": "code",
   "execution_count": 18,
   "id": "36a3737b",
   "metadata": {},
   "outputs": [
    {
     "data": {
      "text/plain": [
       "['Hello!',\n",
       " 'This',\n",
       " 'is',\n",
       " 'my',\n",
       " 'CV,',\n",
       " 'i',\n",
       " 'think',\n",
       " 'i',\n",
       " 'am',\n",
       " 'able',\n",
       " 'to',\n",
       " 'for',\n",
       " 'your',\n",
       " 'company',\n",
       " 'job']"
      ]
     },
     "execution_count": 18,
     "metadata": {},
     "output_type": "execute_result"
    }
   ],
   "source": [
    "s.split()"
   ]
  },
  {
   "cell_type": "code",
   "execution_count": 19,
   "id": "6e68cfe1",
   "metadata": {},
   "outputs": [
    {
     "data": {
      "text/plain": [
       "['Hello! This is my CV', ' i think i am able to for your company job']"
      ]
     },
     "execution_count": 19,
     "metadata": {},
     "output_type": "execute_result"
    }
   ],
   "source": [
    "s.split(',')"
   ]
  },
  {
   "cell_type": "code",
   "execution_count": 20,
   "id": "035ed95d",
   "metadata": {},
   "outputs": [
    {
     "data": {
      "text/plain": [
       "['Hello! Th',\n",
       " 's ',\n",
       " 's my CV, ',\n",
       " ' th',\n",
       " 'nk ',\n",
       " ' am able to for your company job']"
      ]
     },
     "execution_count": 20,
     "metadata": {},
     "output_type": "execute_result"
    }
   ],
   "source": [
    "s.split('i')"
   ]
  },
  {
   "cell_type": "code",
   "execution_count": 21,
   "id": "8cea796d",
   "metadata": {},
   "outputs": [
    {
     "data": {
      "text/plain": [
       "list"
      ]
     },
     "execution_count": 21,
     "metadata": {},
     "output_type": "execute_result"
    }
   ],
   "source": [
    "type(s.split())"
   ]
  },
  {
   "cell_type": "code",
   "execution_count": 22,
   "id": "7cb920f3",
   "metadata": {},
   "outputs": [
    {
     "data": {
      "text/plain": [
       "'HELLO! THIS IS MY CV, I THINK I AM ABLE TO FOR YOUR COMPANY JOB'"
      ]
     },
     "execution_count": 22,
     "metadata": {},
     "output_type": "execute_result"
    }
   ],
   "source": [
    "s.upper()"
   ]
  },
  {
   "cell_type": "code",
   "execution_count": 23,
   "id": "0f88ba41",
   "metadata": {},
   "outputs": [
    {
     "data": {
      "text/plain": [
       "'hello! this is my cv, i think i am able to for your company job'"
      ]
     },
     "execution_count": 23,
     "metadata": {},
     "output_type": "execute_result"
    }
   ],
   "source": [
    "s.lower()"
   ]
  },
  {
   "cell_type": "code",
   "execution_count": 24,
   "id": "c4896cb1",
   "metadata": {},
   "outputs": [
    {
     "data": {
      "text/plain": [
       "'hELLO! tHIS IS MY cv, I THINK I AM ABLE TO FOR YOUR COMPANY JOB'"
      ]
     },
     "execution_count": 24,
     "metadata": {},
     "output_type": "execute_result"
    }
   ],
   "source": [
    "s.swapcase()"
   ]
  },
  {
   "cell_type": "code",
   "execution_count": 25,
   "id": "33a6ec4d",
   "metadata": {},
   "outputs": [
    {
     "data": {
      "text/plain": [
       "'H e l l o !   T h i s   i s   m y   C V ,   i   t h i n k   i   a m   a b l e   t o   f o r   y o u r   c o m p a n y   j o b'"
      ]
     },
     "execution_count": 25,
     "metadata": {},
     "output_type": "execute_result"
    }
   ],
   "source": [
    "\" \".join(s)"
   ]
  },
  {
   "cell_type": "code",
   "execution_count": 26,
   "id": "9bcaf410",
   "metadata": {},
   "outputs": [
    {
     "data": {
      "text/plain": [
       "<reversed at 0x175ef5c6d00>"
      ]
     },
     "execution_count": 26,
     "metadata": {},
     "output_type": "execute_result"
    }
   ],
   "source": [
    "reversed(s)"
   ]
  },
  {
   "cell_type": "code",
   "execution_count": 27,
   "id": "0a58f93b",
   "metadata": {},
   "outputs": [
    {
     "data": {
      "text/plain": [
       "['b',\n",
       " 'o',\n",
       " 'j',\n",
       " ' ',\n",
       " 'y',\n",
       " 'n',\n",
       " 'a',\n",
       " 'p',\n",
       " 'm',\n",
       " 'o',\n",
       " 'c',\n",
       " ' ',\n",
       " 'r',\n",
       " 'u',\n",
       " 'o',\n",
       " 'y',\n",
       " ' ',\n",
       " 'r',\n",
       " 'o',\n",
       " 'f',\n",
       " ' ',\n",
       " 'o',\n",
       " 't',\n",
       " ' ',\n",
       " 'e',\n",
       " 'l',\n",
       " 'b',\n",
       " 'a',\n",
       " ' ',\n",
       " 'm',\n",
       " 'a',\n",
       " ' ',\n",
       " 'i',\n",
       " ' ',\n",
       " 'k',\n",
       " 'n',\n",
       " 'i',\n",
       " 'h',\n",
       " 't',\n",
       " ' ',\n",
       " 'i',\n",
       " ' ',\n",
       " ',',\n",
       " 'V',\n",
       " 'C',\n",
       " ' ',\n",
       " 'y',\n",
       " 'm',\n",
       " ' ',\n",
       " 's',\n",
       " 'i',\n",
       " ' ',\n",
       " 's',\n",
       " 'i',\n",
       " 'h',\n",
       " 'T',\n",
       " ' ',\n",
       " '!',\n",
       " 'o',\n",
       " 'l',\n",
       " 'l',\n",
       " 'e',\n",
       " 'H']"
      ]
     },
     "execution_count": 27,
     "metadata": {},
     "output_type": "execute_result"
    }
   ],
   "source": [
    "list(reversed(s))"
   ]
  },
  {
   "cell_type": "code",
   "execution_count": 28,
   "id": "ad55586c",
   "metadata": {},
   "outputs": [
    {
     "name": "stdout",
     "output_type": "stream",
     "text": [
      "b\n",
      "o\n",
      "j\n",
      " \n",
      "y\n",
      "n\n",
      "a\n",
      "p\n",
      "m\n",
      "o\n",
      "c\n",
      " \n",
      "r\n",
      "u\n",
      "o\n",
      "y\n",
      " \n",
      "r\n",
      "o\n",
      "f\n",
      " \n",
      "o\n",
      "t\n",
      " \n",
      "e\n",
      "l\n",
      "b\n",
      "a\n",
      " \n",
      "m\n",
      "a\n",
      " \n",
      "i\n",
      " \n",
      "k\n",
      "n\n",
      "i\n",
      "h\n",
      "t\n",
      " \n",
      "i\n",
      " \n",
      ",\n",
      "V\n",
      "C\n",
      " \n",
      "y\n",
      "m\n",
      " \n",
      "s\n",
      "i\n",
      " \n",
      "s\n",
      "i\n",
      "h\n",
      "T\n",
      " \n",
      "!\n",
      "o\n",
      "l\n",
      "l\n",
      "e\n",
      "H\n"
     ]
    }
   ],
   "source": [
    "for i in reversed(s):\n",
    "    print(i)"
   ]
  },
  {
   "cell_type": "code",
   "execution_count": 29,
   "id": "4de865dc",
   "metadata": {},
   "outputs": [],
   "source": [
    "s = \"    muzamil    \""
   ]
  },
  {
   "cell_type": "code",
   "execution_count": 30,
   "id": "552215b5",
   "metadata": {},
   "outputs": [
    {
     "data": {
      "text/plain": [
       "'    muzamil    '"
      ]
     },
     "execution_count": 30,
     "metadata": {},
     "output_type": "execute_result"
    }
   ],
   "source": [
    "s"
   ]
  },
  {
   "cell_type": "markdown",
   "id": "c16fdca8",
   "metadata": {},
   "source": [
    "#  BOTH SIDE STRIP"
   ]
  },
  {
   "cell_type": "code",
   "execution_count": 31,
   "id": "4289162b",
   "metadata": {},
   "outputs": [
    {
     "data": {
      "text/plain": [
       "'muzamil'"
      ]
     },
     "execution_count": 31,
     "metadata": {},
     "output_type": "execute_result"
    }
   ],
   "source": [
    "s.strip()"
   ]
  },
  {
   "cell_type": "code",
   "execution_count": 32,
   "id": "00f1e48a",
   "metadata": {},
   "outputs": [
    {
     "data": {
      "text/plain": [
       "'    muzamil    '"
      ]
     },
     "execution_count": 32,
     "metadata": {},
     "output_type": "execute_result"
    }
   ],
   "source": [
    "s"
   ]
  },
  {
   "cell_type": "markdown",
   "id": "39eda614",
   "metadata": {},
   "source": [
    "# LEFT SIDE STRIP"
   ]
  },
  {
   "cell_type": "code",
   "execution_count": 33,
   "id": "cbf21509",
   "metadata": {},
   "outputs": [
    {
     "data": {
      "text/plain": [
       "'muzamil    '"
      ]
     },
     "execution_count": 33,
     "metadata": {},
     "output_type": "execute_result"
    }
   ],
   "source": [
    "s.lstrip()"
   ]
  },
  {
   "cell_type": "markdown",
   "id": "8f13ad8d",
   "metadata": {},
   "source": [
    "#  RIGHT SIDE STRIP"
   ]
  },
  {
   "cell_type": "code",
   "execution_count": 34,
   "id": "fdb303db",
   "metadata": {},
   "outputs": [
    {
     "data": {
      "text/plain": [
       "'    muzamil'"
      ]
     },
     "execution_count": 34,
     "metadata": {},
     "output_type": "execute_result"
    }
   ],
   "source": [
    "s.rstrip()"
   ]
  },
  {
   "cell_type": "code",
   "execution_count": 35,
   "id": "f44cc5e4",
   "metadata": {},
   "outputs": [
    {
     "data": {
      "text/plain": [
       "'    muzamil    '"
      ]
     },
     "execution_count": 35,
     "metadata": {},
     "output_type": "execute_result"
    }
   ],
   "source": [
    "s"
   ]
  },
  {
   "cell_type": "code",
   "execution_count": 36,
   "id": "6002f968",
   "metadata": {},
   "outputs": [],
   "source": [
    "s =\"my naem is muzamil \""
   ]
  },
  {
   "cell_type": "code",
   "execution_count": 37,
   "id": "639ef17e",
   "metadata": {},
   "outputs": [
    {
     "data": {
      "text/plain": [
       "'my naem is muzamil '"
      ]
     },
     "execution_count": 37,
     "metadata": {},
     "output_type": "execute_result"
    }
   ],
   "source": [
    "s"
   ]
  },
  {
   "cell_type": "code",
   "execution_count": 38,
   "id": "2a89bb90",
   "metadata": {},
   "outputs": [
    {
     "data": {
      "text/plain": [
       "'my name is muzamil '"
      ]
     },
     "execution_count": 38,
     "metadata": {},
     "output_type": "execute_result"
    }
   ],
   "source": [
    "s.replace(\"naem\" , 'name')"
   ]
  },
  {
   "cell_type": "code",
   "execution_count": 39,
   "id": "8430d864",
   "metadata": {},
   "outputs": [
    {
     "data": {
      "text/plain": [
       "'my naem is muzamil '"
      ]
     },
     "execution_count": 39,
     "metadata": {},
     "output_type": "execute_result"
    }
   ],
   "source": [
    "s"
   ]
  },
  {
   "cell_type": "code",
   "execution_count": 40,
   "id": "42a9bcec",
   "metadata": {},
   "outputs": [],
   "source": [
    "s = s.replace(\"naem\" , 'name')"
   ]
  },
  {
   "cell_type": "code",
   "execution_count": 41,
   "id": "26091b86",
   "metadata": {},
   "outputs": [
    {
     "data": {
      "text/plain": [
       "'my name is muzamil '"
      ]
     },
     "execution_count": 41,
     "metadata": {},
     "output_type": "execute_result"
    }
   ],
   "source": [
    "s"
   ]
  },
  {
   "cell_type": "code",
   "execution_count": 42,
   "id": "19f18a3a",
   "metadata": {},
   "outputs": [],
   "source": [
    "s = \"khan\""
   ]
  },
  {
   "cell_type": "code",
   "execution_count": 44,
   "id": "8376aab2",
   "metadata": {},
   "outputs": [
    {
     "data": {
      "text/plain": [
       "'khan'"
      ]
     },
     "execution_count": 44,
     "metadata": {},
     "output_type": "execute_result"
    }
   ],
   "source": [
    "s"
   ]
  },
  {
   "cell_type": "code",
   "execution_count": 45,
   "id": "0536af91",
   "metadata": {},
   "outputs": [
    {
     "data": {
      "text/plain": [
       "'MMMMMMMMMMMMMkhanMMMMMMMMMMMMM'"
      ]
     },
     "execution_count": 45,
     "metadata": {},
     "output_type": "execute_result"
    }
   ],
   "source": [
    "s.center(30 , 'M')"
   ]
  },
  {
   "cell_type": "code",
   "execution_count": 46,
   "id": "058bb93e",
   "metadata": {},
   "outputs": [
    {
     "data": {
      "text/plain": [
       "'#############khan#############'"
      ]
     },
     "execution_count": 46,
     "metadata": {},
     "output_type": "execute_result"
    }
   ],
   "source": [
    "s.center(30 , '#')"
   ]
  },
  {
   "cell_type": "code",
   "execution_count": 47,
   "id": "87721972",
   "metadata": {},
   "outputs": [
    {
     "data": {
      "text/plain": [
       "'@@@@@@@@@@@@@khan@@@@@@@@@@@@@'"
      ]
     },
     "execution_count": 47,
     "metadata": {},
     "output_type": "execute_result"
    }
   ],
   "source": [
    "s.center(30 , '@')"
   ]
  },
  {
   "cell_type": "code",
   "execution_count": 48,
   "id": "a82e3336",
   "metadata": {},
   "outputs": [],
   "source": [
    "s = \"muzamil\\tkhan\""
   ]
  },
  {
   "cell_type": "code",
   "execution_count": 49,
   "id": "52437f36",
   "metadata": {},
   "outputs": [
    {
     "data": {
      "text/plain": [
       "'muzamil\\tkhan'"
      ]
     },
     "execution_count": 49,
     "metadata": {},
     "output_type": "execute_result"
    }
   ],
   "source": [
    "s"
   ]
  },
  {
   "cell_type": "code",
   "execution_count": 50,
   "id": "0057602f",
   "metadata": {},
   "outputs": [
    {
     "data": {
      "text/plain": [
       "'muzamil khan'"
      ]
     },
     "execution_count": 50,
     "metadata": {},
     "output_type": "execute_result"
    }
   ],
   "source": [
    "s.expandtabs()"
   ]
  },
  {
   "cell_type": "code",
   "execution_count": 51,
   "id": "f3cb0890",
   "metadata": {},
   "outputs": [],
   "source": [
    "s = \"we are all a part of Full Stack  \""
   ]
  },
  {
   "cell_type": "code",
   "execution_count": 52,
   "id": "010b1678",
   "metadata": {},
   "outputs": [
    {
     "data": {
      "text/plain": [
       "'we are all a part of Full Stack  '"
      ]
     },
     "execution_count": 52,
     "metadata": {},
     "output_type": "execute_result"
    }
   ],
   "source": [
    "s"
   ]
  },
  {
   "cell_type": "code",
   "execution_count": 53,
   "id": "c42e35f0",
   "metadata": {},
   "outputs": [
    {
     "data": {
      "text/plain": [
       "'we are all a part of full stack  '"
      ]
     },
     "execution_count": 53,
     "metadata": {},
     "output_type": "execute_result"
    }
   ],
   "source": [
    "s.lower()"
   ]
  },
  {
   "cell_type": "code",
   "execution_count": 54,
   "id": "85db3a1b",
   "metadata": {},
   "outputs": [
    {
     "data": {
      "text/plain": [
       "5"
      ]
     },
     "execution_count": 54,
     "metadata": {},
     "output_type": "execute_result"
    }
   ],
   "source": [
    "s.count(\"a\")"
   ]
  },
  {
   "cell_type": "code",
   "execution_count": 55,
   "id": "a7f8115e",
   "metadata": {},
   "outputs": [
    {
     "data": {
      "text/plain": [
       "'we iNeuronre iNeuronll iNeuron piNeuronrt of Full StiNeuronck  '"
      ]
     },
     "execution_count": 55,
     "metadata": {},
     "output_type": "execute_result"
    }
   ],
   "source": [
    "s.replace(\"a\" ,'iNeuron')"
   ]
  },
  {
   "cell_type": "code",
   "execution_count": 56,
   "id": "e2b62bbd",
   "metadata": {},
   "outputs": [
    {
     "data": {
      "text/plain": [
       "'we are all a part of Full Stack  '"
      ]
     },
     "execution_count": 56,
     "metadata": {},
     "output_type": "execute_result"
    }
   ],
   "source": [
    "s"
   ]
  },
  {
   "cell_type": "code",
   "execution_count": 57,
   "id": "0f2449e2",
   "metadata": {},
   "outputs": [
    {
     "data": {
      "text/plain": [
       "['we', 'are', 'all', 'a', 'part', 'of', 'Full', 'Stack']"
      ]
     },
     "execution_count": 57,
     "metadata": {},
     "output_type": "execute_result"
    }
   ],
   "source": [
    "s.split()"
   ]
  },
  {
   "cell_type": "code",
   "execution_count": 58,
   "id": "ec75d888",
   "metadata": {},
   "outputs": [
    {
     "data": {
      "text/plain": [
       "'we are all a part of Full Stack  '"
      ]
     },
     "execution_count": 58,
     "metadata": {},
     "output_type": "execute_result"
    }
   ],
   "source": [
    "s"
   ]
  },
  {
   "cell_type": "code",
   "execution_count": 60,
   "id": "c5acab07",
   "metadata": {},
   "outputs": [
    {
     "data": {
      "text/plain": [
       "3"
      ]
     },
     "execution_count": 60,
     "metadata": {},
     "output_type": "execute_result"
    }
   ],
   "source": [
    "s.find(\"a\")"
   ]
  },
  {
   "cell_type": "code",
   "execution_count": 61,
   "id": "5095ec08",
   "metadata": {},
   "outputs": [
    {
     "data": {
      "text/plain": [
       "'we are all a part of Full Stack  '"
      ]
     },
     "execution_count": 61,
     "metadata": {},
     "output_type": "execute_result"
    }
   ],
   "source": [
    "s\n"
   ]
  },
  {
   "cell_type": "code",
   "execution_count": 62,
   "id": "2c02d947",
   "metadata": {},
   "outputs": [
    {
     "name": "stdout",
     "output_type": "stream",
     "text": [
      "3\n",
      "7\n",
      "11\n",
      "14\n",
      "28\n"
     ]
    }
   ],
   "source": [
    "for i in range(len(s)):\n",
    "    if(s[i] == \"a\"):\n",
    "        print(i)"
   ]
  },
  {
   "cell_type": "code",
   "execution_count": 63,
   "id": "577757ea",
   "metadata": {},
   "outputs": [
    {
     "data": {
      "text/plain": [
       "'we are all a part of Full Stack  '"
      ]
     },
     "execution_count": 63,
     "metadata": {},
     "output_type": "execute_result"
    }
   ],
   "source": [
    "s"
   ]
  },
  {
   "cell_type": "code",
   "execution_count": 64,
   "id": "bdcff1b1",
   "metadata": {},
   "outputs": [
    {
     "name": "stdout",
     "output_type": "stream",
     "text": [
      "we are all part of full stack\n",
      "4\n",
      "\r\n",
      "3\n",
      "7\n",
      "12\n",
      "26\n",
      "we iNeuronre iNeuronll piNeuronrt of full stiNeuronck\n",
      "['we', 'are', 'all', 'part', 'of', 'full', 'stack']\n"
     ]
    }
   ],
   "source": [
    "s =\"we are all part of full stack\"\n",
    "a = s.lower()\n",
    "b = s.count(\"a\")\n",
    "print(a)\n",
    "print(b)\n",
    "print(\"\\r\")\n",
    "for i in range(len(s)):\n",
    "    if(s[i] == 'a'):\n",
    "        print(i)\n",
    "c = s.replace(\"a\" , 'iNeuron')\n",
    "print(c)\n",
    "d = s.split()\n",
    "print(d)"
   ]
  },
  {
   "cell_type": "code",
   "execution_count": 65,
   "id": "fa137392",
   "metadata": {},
   "outputs": [],
   "source": [
    " s = \"muzamil\""
   ]
  },
  {
   "cell_type": "code",
   "execution_count": 66,
   "id": "3d60eada",
   "metadata": {},
   "outputs": [
    {
     "data": {
      "text/plain": [
       "'muzamil'"
      ]
     },
     "execution_count": 66,
     "metadata": {},
     "output_type": "execute_result"
    }
   ],
   "source": [
    "s"
   ]
  },
  {
   "cell_type": "code",
   "execution_count": 67,
   "id": "652b7bdf",
   "metadata": {},
   "outputs": [
    {
     "data": {
      "text/plain": [
       "False"
      ]
     },
     "execution_count": 67,
     "metadata": {},
     "output_type": "execute_result"
    }
   ],
   "source": [
    "s.isupper()"
   ]
  },
  {
   "cell_type": "code",
   "execution_count": 68,
   "id": "a52d28df",
   "metadata": {},
   "outputs": [
    {
     "data": {
      "text/plain": [
       "' MUZAMIL'"
      ]
     },
     "execution_count": 68,
     "metadata": {},
     "output_type": "execute_result"
    }
   ],
   "source": [
    "s = \" MUZAMIL\"\n",
    "s"
   ]
  },
  {
   "cell_type": "code",
   "execution_count": 69,
   "id": "498b09b8",
   "metadata": {},
   "outputs": [
    {
     "data": {
      "text/plain": [
       "True"
      ]
     },
     "execution_count": 69,
     "metadata": {},
     "output_type": "execute_result"
    }
   ],
   "source": [
    "s.isupper()"
   ]
  },
  {
   "cell_type": "code",
   "execution_count": 70,
   "id": "de5447ee",
   "metadata": {},
   "outputs": [
    {
     "data": {
      "text/plain": [
       "'muzamil'"
      ]
     },
     "execution_count": 70,
     "metadata": {},
     "output_type": "execute_result"
    }
   ],
   "source": [
    "s = \"muzamil\"\n",
    "s"
   ]
  },
  {
   "cell_type": "code",
   "execution_count": 71,
   "id": "099cf413",
   "metadata": {},
   "outputs": [
    {
     "data": {
      "text/plain": [
       "True"
      ]
     },
     "execution_count": 71,
     "metadata": {},
     "output_type": "execute_result"
    }
   ],
   "source": [
    "s.islower()"
   ]
  },
  {
   "cell_type": "code",
   "execution_count": 72,
   "id": "8728778b",
   "metadata": {},
   "outputs": [
    {
     "data": {
      "text/plain": [
       "'    '"
      ]
     },
     "execution_count": 72,
     "metadata": {},
     "output_type": "execute_result"
    }
   ],
   "source": [
    "s = \"    \"\n",
    "s"
   ]
  },
  {
   "cell_type": "code",
   "execution_count": 73,
   "id": "24610527",
   "metadata": {},
   "outputs": [
    {
     "data": {
      "text/plain": [
       "True"
      ]
     },
     "execution_count": 73,
     "metadata": {},
     "output_type": "execute_result"
    }
   ],
   "source": [
    "s.isspace()"
   ]
  },
  {
   "cell_type": "code",
   "execution_count": 74,
   "id": "1971a8ec",
   "metadata": {},
   "outputs": [
    {
     "data": {
      "text/plain": [
       "'MUZAMIL123457'"
      ]
     },
     "execution_count": 74,
     "metadata": {},
     "output_type": "execute_result"
    }
   ],
   "source": [
    "s = \"MUZAMIL123457\"\n",
    "s"
   ]
  },
  {
   "cell_type": "code",
   "execution_count": 75,
   "id": "8aae0287",
   "metadata": {},
   "outputs": [
    {
     "data": {
      "text/plain": [
       "False"
      ]
     },
     "execution_count": 75,
     "metadata": {},
     "output_type": "execute_result"
    }
   ],
   "source": [
    "s.isdigit()"
   ]
  },
  {
   "cell_type": "code",
   "execution_count": 76,
   "id": "8522c396",
   "metadata": {},
   "outputs": [
    {
     "data": {
      "text/plain": [
       "'1234'"
      ]
     },
     "execution_count": 76,
     "metadata": {},
     "output_type": "execute_result"
    }
   ],
   "source": [
    "s = \"1234\"\n",
    "s"
   ]
  },
  {
   "cell_type": "code",
   "execution_count": 77,
   "id": "971f0939",
   "metadata": {},
   "outputs": [
    {
     "data": {
      "text/plain": [
       "True"
      ]
     },
     "execution_count": 77,
     "metadata": {},
     "output_type": "execute_result"
    }
   ],
   "source": [
    "s.isdigit()"
   ]
  },
  {
   "cell_type": "code",
   "execution_count": 78,
   "id": "d8f3652d",
   "metadata": {},
   "outputs": [
    {
     "data": {
      "text/plain": [
       "False"
      ]
     },
     "execution_count": 78,
     "metadata": {},
     "output_type": "execute_result"
    }
   ],
   "source": [
    "s.endswith(\"1\")"
   ]
  },
  {
   "cell_type": "code",
   "execution_count": 79,
   "id": "1904d98d",
   "metadata": {},
   "outputs": [
    {
     "data": {
      "text/plain": [
       "False"
      ]
     },
     "execution_count": 79,
     "metadata": {},
     "output_type": "execute_result"
    }
   ],
   "source": [
    "s.endswith(\"m\")"
   ]
  },
  {
   "cell_type": "code",
   "execution_count": 80,
   "id": "d3b08d5f",
   "metadata": {},
   "outputs": [
    {
     "data": {
      "text/plain": [
       "'muzamil'"
      ]
     },
     "execution_count": 80,
     "metadata": {},
     "output_type": "execute_result"
    }
   ],
   "source": [
    "s = \"muzamil\"\n",
    "s"
   ]
  },
  {
   "cell_type": "code",
   "execution_count": 81,
   "id": "b27ca76e",
   "metadata": {},
   "outputs": [
    {
     "data": {
      "text/plain": [
       "True"
      ]
     },
     "execution_count": 81,
     "metadata": {},
     "output_type": "execute_result"
    }
   ],
   "source": [
    "s.endswith(\"l\")"
   ]
  },
  {
   "cell_type": "code",
   "execution_count": 82,
   "id": "391d8819",
   "metadata": {},
   "outputs": [
    {
     "data": {
      "text/plain": [
       "True"
      ]
     },
     "execution_count": 82,
     "metadata": {},
     "output_type": "execute_result"
    }
   ],
   "source": [
    "s.startswith(\"m\")"
   ]
  },
  {
   "cell_type": "code",
   "execution_count": 83,
   "id": "b56c10ff",
   "metadata": {},
   "outputs": [
    {
     "data": {
      "text/plain": [
       "True"
      ]
     },
     "execution_count": 83,
     "metadata": {},
     "output_type": "execute_result"
    }
   ],
   "source": [
    "s.isalnum()"
   ]
  },
  {
   "cell_type": "code",
   "execution_count": 84,
   "id": "c9983c7a",
   "metadata": {},
   "outputs": [
    {
     "data": {
      "text/plain": [
       "'muzamil'"
      ]
     },
     "execution_count": 84,
     "metadata": {},
     "output_type": "execute_result"
    }
   ],
   "source": [
    "s"
   ]
  },
  {
   "cell_type": "code",
   "execution_count": 85,
   "id": "86b61e32",
   "metadata": {},
   "outputs": [
    {
     "data": {
      "text/plain": [
       "True"
      ]
     },
     "execution_count": 85,
     "metadata": {},
     "output_type": "execute_result"
    }
   ],
   "source": [
    "s.isalnum()"
   ]
  },
  {
   "cell_type": "code",
   "execution_count": 86,
   "id": "86893b49",
   "metadata": {},
   "outputs": [
    {
     "data": {
      "text/plain": [
       "True"
      ]
     },
     "execution_count": 86,
     "metadata": {},
     "output_type": "execute_result"
    }
   ],
   "source": [
    "s.isalpha()"
   ]
  },
  {
   "cell_type": "code",
   "execution_count": 87,
   "id": "4aba8661",
   "metadata": {},
   "outputs": [
    {
     "data": {
      "text/plain": [
       "False"
      ]
     },
     "execution_count": 87,
     "metadata": {},
     "output_type": "execute_result"
    }
   ],
   "source": [
    "s.istitle()"
   ]
  },
  {
   "cell_type": "code",
   "execution_count": 88,
   "id": "654c0e76",
   "metadata": {},
   "outputs": [],
   "source": [
    "s = \"this is a full stack batch\" "
   ]
  },
  {
   "cell_type": "code",
   "execution_count": 89,
   "id": "5f5c4a18",
   "metadata": {},
   "outputs": [
    {
     "data": {
      "text/plain": [
       "'this is a full stack batch'"
      ]
     },
     "execution_count": 89,
     "metadata": {},
     "output_type": "execute_result"
    }
   ],
   "source": [
    "s"
   ]
  },
  {
   "cell_type": "code",
   "execution_count": 90,
   "id": "6388af19",
   "metadata": {},
   "outputs": [
    {
     "data": {
      "text/plain": [
       "26"
      ]
     },
     "execution_count": 90,
     "metadata": {},
     "output_type": "execute_result"
    }
   ],
   "source": [
    "len(s)"
   ]
  },
  {
   "cell_type": "code",
   "execution_count": 91,
   "id": "9fcbf607",
   "metadata": {},
   "outputs": [
    {
     "name": "stdout",
     "output_type": "stream",
     "text": [
      "t\n",
      "h\n",
      "i\n",
      "s\n",
      " \n",
      "i\n",
      "s\n",
      " \n",
      "a\n",
      " \n",
      "f\n",
      "u\n",
      "l\n",
      "l\n",
      " \n",
      "s\n",
      "t\n",
      "a\n",
      "c\n",
      "k\n",
      " \n",
      "b\n",
      "a\n",
      "t\n",
      "c\n",
      "h\n"
     ]
    }
   ],
   "source": [
    "for i in s:\n",
    "    print(i)"
   ]
  },
  {
   "cell_type": "markdown",
   "id": "65257cde",
   "metadata": {},
   "source": [
    "print the len of the string by using for andcount fuction"
   ]
  },
  {
   "cell_type": "code",
   "execution_count": 92,
   "id": "292676ec",
   "metadata": {},
   "outputs": [
    {
     "name": "stdout",
     "output_type": "stream",
     "text": [
      "26\n"
     ]
    }
   ],
   "source": [
    "count=0\n",
    "for i in s:\n",
    "    count= count+1\n",
    "print(count)"
   ]
  },
  {
   "cell_type": "markdown",
   "id": "11ae9ae4",
   "metadata": {},
   "source": [
    "print the reversed order by using for loop"
   ]
  },
  {
   "cell_type": "code",
   "execution_count": 93,
   "id": "ee1c2387",
   "metadata": {},
   "outputs": [
    {
     "name": "stdout",
     "output_type": "stream",
     "text": [
      "h\n",
      "c\n",
      "t\n",
      "a\n",
      "b\n",
      " \n",
      "k\n",
      "c\n",
      "a\n",
      "t\n",
      "s\n",
      " \n",
      "l\n",
      "l\n",
      "u\n",
      "f\n",
      " \n",
      "a\n",
      " \n",
      "s\n",
      "i\n",
      " \n",
      "s\n",
      "i\n",
      "h\n"
     ]
    }
   ],
   "source": [
    "for i in range(1,len(s)):\n",
    "    print(s[-i])"
   ]
  },
  {
   "cell_type": "markdown",
   "id": "e8017d86",
   "metadata": {},
   "source": [
    "print the reversed order by using while loop"
   ]
  },
  {
   "cell_type": "code",
   "execution_count": 96,
   "id": "5871fab4",
   "metadata": {
    "scrolled": true
   },
   "outputs": [
    {
     "name": "stdout",
     "output_type": "stream",
     "text": [
      "L\n",
      "I\n",
      "M\n",
      "A\n",
      "Z\n",
      "U\n",
      "M\n"
     ]
    }
   ],
   "source": [
    "s = \"MUZAMIL\"\n",
    "c = len(s) -1\n",
    "while c>=0:\n",
    "    print(s[c])\n",
    "    c = c-1"
   ]
  },
  {
   "cell_type": "markdown",
   "id": "e616acc8",
   "metadata": {},
   "source": [
    "print the vowels by using for loop"
   ]
  },
  {
   "cell_type": "code",
   "execution_count": 97,
   "id": "8768f38e",
   "metadata": {},
   "outputs": [
    {
     "name": "stdout",
     "output_type": "stream",
     "text": [
      "M is not a vowel\n",
      "U is a vowel\n",
      "Z is not a vowel\n",
      "A is a vowel\n",
      "M is not a vowel\n",
      "I is a vowel\n",
      "L is not a vowel\n"
     ]
    }
   ],
   "source": [
    "name = \"MUZAMIL\"\n",
    "vowels = \"AaEeIiOoUu\"\n",
    "for i in name:\n",
    "    if i in vowels:\n",
    "        print(\"{} is a vowel\".format(i))\n",
    "    else:\n",
    "        print(\"{} is not a vowel\".format(i))"
   ]
  },
  {
   "cell_type": "code",
   "execution_count": null,
   "id": "53300adf",
   "metadata": {},
   "outputs": [],
   "source": [
    "  "
   ]
  }
 ],
 "metadata": {
  "kernelspec": {
   "display_name": "Python 3",
   "language": "python",
   "name": "python3"
  },
  "language_info": {
   "codemirror_mode": {
    "name": "ipython",
    "version": 3
   },
   "file_extension": ".py",
   "mimetype": "text/x-python",
   "name": "python",
   "nbconvert_exporter": "python",
   "pygments_lexer": "ipython3",
   "version": "3.8.8"
  }
 },
 "nbformat": 4,
 "nbformat_minor": 5
}
